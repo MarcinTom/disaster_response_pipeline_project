{
 "cells": [
  {
   "cell_type": "markdown",
   "metadata": {},
   "source": [
    "# ML Pipeline Preparation\n",
    "Follow the instructions below to help you create your ML pipeline.\n",
    "### 1. Import libraries and load data from database.\n",
    "- Import Python libraries\n",
    "- Load dataset from database with [`read_sql_table`](https://pandas.pydata.org/pandas-docs/stable/generated/pandas.read_sql_table.html)\n",
    "- Define feature and target variables X and Y"
   ]
  },
  {
   "cell_type": "code",
   "execution_count": 1,
   "metadata": {},
   "outputs": [
    {
     "name": "stdout",
     "output_type": "stream",
     "text": [
      "[nltk_data] Downloading package punkt to /root/nltk_data...\n",
      "[nltk_data]   Unzipping tokenizers/punkt.zip.\n",
      "[nltk_data] Downloading package wordnet to /root/nltk_data...\n",
      "[nltk_data] Downloading package stopwords to /root/nltk_data...\n",
      "[nltk_data]   Unzipping corpora/stopwords.zip.\n"
     ]
    }
   ],
   "source": [
    "# import libraries\n",
    "import nltk\n",
    "nltk.download([\"punkt\", \"wordnet\", \"stopwords\"])\n",
    "\n",
    "\n",
    "from nltk.corpus import stopwords\n",
    "from nltk.tokenize import word_tokenize\n",
    "from nltk.stem import WordNetLemmatizer\n",
    "import pandas as pd\n",
    "import pickle\n",
    "import re\n",
    "from sklearn.ensemble import RandomForestClassifier, AdaBoostClassifier\n",
    "from sklearn.feature_extraction.text import CountVectorizer, TfidfTransformer\n",
    "from sklearn.metrics import classification_report\n",
    "from sklearn.model_selection import GridSearchCV, train_test_split\n",
    "from sklearn.multioutput import MultiOutputClassifier\n",
    "from sklearn.naive_bayes import MultinomialNB\n",
    "from sklearn.pipeline import Pipeline, FeatureUnion\n",
    "import sqlalchemy as sa\n",
    "from sqlalchemy import inspect"
   ]
  },
  {
   "cell_type": "code",
   "execution_count": 2,
   "metadata": {},
   "outputs": [
    {
     "name": "stdout",
     "output_type": "stream",
     "text": [
      "Table: Message\n"
     ]
    }
   ],
   "source": [
    "# load data from database\n",
    "engine = sa.create_engine(\"sqlite:///DisasterResponse.db\")\n",
    "inspector = inspect(engine)\n",
    "\n",
    "for table_name in inspector.get_table_names():\n",
    "    print(\"Table: %s\" % table_name)"
   ]
  },
  {
   "cell_type": "code",
   "execution_count": 3,
   "metadata": {},
   "outputs": [
    {
     "data": {
      "text/html": [
       "<div>\n",
       "<style scoped>\n",
       "    .dataframe tbody tr th:only-of-type {\n",
       "        vertical-align: middle;\n",
       "    }\n",
       "\n",
       "    .dataframe tbody tr th {\n",
       "        vertical-align: top;\n",
       "    }\n",
       "\n",
       "    .dataframe thead th {\n",
       "        text-align: right;\n",
       "    }\n",
       "</style>\n",
       "<table border=\"1\" class=\"dataframe\">\n",
       "  <thead>\n",
       "    <tr style=\"text-align: right;\">\n",
       "      <th></th>\n",
       "      <th>index</th>\n",
       "      <th>id</th>\n",
       "      <th>message</th>\n",
       "      <th>original</th>\n",
       "      <th>genre</th>\n",
       "      <th>related</th>\n",
       "      <th>request</th>\n",
       "      <th>offer</th>\n",
       "      <th>aid_related</th>\n",
       "      <th>medical_help</th>\n",
       "      <th>...</th>\n",
       "      <th>aid_centers</th>\n",
       "      <th>other_infrastructure</th>\n",
       "      <th>weather_related</th>\n",
       "      <th>floods</th>\n",
       "      <th>storm</th>\n",
       "      <th>fire</th>\n",
       "      <th>earthquake</th>\n",
       "      <th>cold</th>\n",
       "      <th>other_weather</th>\n",
       "      <th>direct_report</th>\n",
       "    </tr>\n",
       "  </thead>\n",
       "  <tbody>\n",
       "    <tr>\n",
       "      <th>0</th>\n",
       "      <td>0</td>\n",
       "      <td>2</td>\n",
       "      <td>Weather update - a cold front from Cuba that c...</td>\n",
       "      <td>Un front froid se retrouve sur Cuba ce matin. ...</td>\n",
       "      <td>direct</td>\n",
       "      <td>1</td>\n",
       "      <td>0</td>\n",
       "      <td>0</td>\n",
       "      <td>0</td>\n",
       "      <td>0</td>\n",
       "      <td>...</td>\n",
       "      <td>0</td>\n",
       "      <td>0</td>\n",
       "      <td>0</td>\n",
       "      <td>0</td>\n",
       "      <td>0</td>\n",
       "      <td>0</td>\n",
       "      <td>0</td>\n",
       "      <td>0</td>\n",
       "      <td>0</td>\n",
       "      <td>0</td>\n",
       "    </tr>\n",
       "    <tr>\n",
       "      <th>1</th>\n",
       "      <td>1</td>\n",
       "      <td>7</td>\n",
       "      <td>Is the Hurricane over or is it not over</td>\n",
       "      <td>Cyclone nan fini osinon li pa fini</td>\n",
       "      <td>direct</td>\n",
       "      <td>1</td>\n",
       "      <td>0</td>\n",
       "      <td>0</td>\n",
       "      <td>1</td>\n",
       "      <td>0</td>\n",
       "      <td>...</td>\n",
       "      <td>0</td>\n",
       "      <td>0</td>\n",
       "      <td>1</td>\n",
       "      <td>0</td>\n",
       "      <td>1</td>\n",
       "      <td>0</td>\n",
       "      <td>0</td>\n",
       "      <td>0</td>\n",
       "      <td>0</td>\n",
       "      <td>0</td>\n",
       "    </tr>\n",
       "  </tbody>\n",
       "</table>\n",
       "<p>2 rows × 41 columns</p>\n",
       "</div>"
      ],
      "text/plain": [
       "   index  id                                            message  \\\n",
       "0      0   2  Weather update - a cold front from Cuba that c...   \n",
       "1      1   7            Is the Hurricane over or is it not over   \n",
       "\n",
       "                                            original   genre  related  \\\n",
       "0  Un front froid se retrouve sur Cuba ce matin. ...  direct        1   \n",
       "1                 Cyclone nan fini osinon li pa fini  direct        1   \n",
       "\n",
       "   request  offer  aid_related  medical_help      ...        aid_centers  \\\n",
       "0        0      0            0             0      ...                  0   \n",
       "1        0      0            1             0      ...                  0   \n",
       "\n",
       "   other_infrastructure  weather_related  floods  storm  fire  earthquake  \\\n",
       "0                     0                0       0      0     0           0   \n",
       "1                     0                1       0      1     0           0   \n",
       "\n",
       "   cold  other_weather  direct_report  \n",
       "0     0              0              0  \n",
       "1     0              0              0  \n",
       "\n",
       "[2 rows x 41 columns]"
      ]
     },
     "execution_count": 3,
     "metadata": {},
     "output_type": "execute_result"
    }
   ],
   "source": [
    "df = pd.read_sql_table(\"Message\", engine)\n",
    "df.head(2)"
   ]
  },
  {
   "cell_type": "code",
   "execution_count": 4,
   "metadata": {},
   "outputs": [
    {
     "data": {
      "text/plain": [
       "(26216, 41)"
      ]
     },
     "execution_count": 4,
     "metadata": {},
     "output_type": "execute_result"
    }
   ],
   "source": [
    "df.shape"
   ]
  },
  {
   "cell_type": "code",
   "execution_count": 5,
   "metadata": {},
   "outputs": [
    {
     "data": {
      "text/html": [
       "<div>\n",
       "<style scoped>\n",
       "    .dataframe tbody tr th:only-of-type {\n",
       "        vertical-align: middle;\n",
       "    }\n",
       "\n",
       "    .dataframe tbody tr th {\n",
       "        vertical-align: top;\n",
       "    }\n",
       "\n",
       "    .dataframe thead th {\n",
       "        text-align: right;\n",
       "    }\n",
       "</style>\n",
       "<table border=\"1\" class=\"dataframe\">\n",
       "  <thead>\n",
       "    <tr style=\"text-align: right;\">\n",
       "      <th></th>\n",
       "      <th>related</th>\n",
       "      <th>request</th>\n",
       "      <th>offer</th>\n",
       "      <th>aid_related</th>\n",
       "      <th>medical_help</th>\n",
       "      <th>medical_products</th>\n",
       "      <th>search_and_rescue</th>\n",
       "      <th>security</th>\n",
       "      <th>military</th>\n",
       "      <th>child_alone</th>\n",
       "      <th>...</th>\n",
       "      <th>aid_centers</th>\n",
       "      <th>other_infrastructure</th>\n",
       "      <th>weather_related</th>\n",
       "      <th>floods</th>\n",
       "      <th>storm</th>\n",
       "      <th>fire</th>\n",
       "      <th>earthquake</th>\n",
       "      <th>cold</th>\n",
       "      <th>other_weather</th>\n",
       "      <th>direct_report</th>\n",
       "    </tr>\n",
       "  </thead>\n",
       "  <tbody>\n",
       "    <tr>\n",
       "      <th>count</th>\n",
       "      <td>26216.000000</td>\n",
       "      <td>26216.000000</td>\n",
       "      <td>26216.000000</td>\n",
       "      <td>26216.000000</td>\n",
       "      <td>26216.000000</td>\n",
       "      <td>26216.000000</td>\n",
       "      <td>26216.000000</td>\n",
       "      <td>26216.000000</td>\n",
       "      <td>26216.000000</td>\n",
       "      <td>26216.0</td>\n",
       "      <td>...</td>\n",
       "      <td>26216.000000</td>\n",
       "      <td>26216.000000</td>\n",
       "      <td>26216.000000</td>\n",
       "      <td>26216.000000</td>\n",
       "      <td>26216.000000</td>\n",
       "      <td>26216.000000</td>\n",
       "      <td>26216.000000</td>\n",
       "      <td>26216.000000</td>\n",
       "      <td>26216.000000</td>\n",
       "      <td>26216.000000</td>\n",
       "    </tr>\n",
       "    <tr>\n",
       "      <th>mean</th>\n",
       "      <td>0.773650</td>\n",
       "      <td>0.170659</td>\n",
       "      <td>0.004501</td>\n",
       "      <td>0.414251</td>\n",
       "      <td>0.079493</td>\n",
       "      <td>0.050084</td>\n",
       "      <td>0.027617</td>\n",
       "      <td>0.017966</td>\n",
       "      <td>0.032804</td>\n",
       "      <td>0.0</td>\n",
       "      <td>...</td>\n",
       "      <td>0.011787</td>\n",
       "      <td>0.043904</td>\n",
       "      <td>0.278341</td>\n",
       "      <td>0.082202</td>\n",
       "      <td>0.093187</td>\n",
       "      <td>0.010757</td>\n",
       "      <td>0.093645</td>\n",
       "      <td>0.020217</td>\n",
       "      <td>0.052487</td>\n",
       "      <td>0.193584</td>\n",
       "    </tr>\n",
       "    <tr>\n",
       "      <th>std</th>\n",
       "      <td>0.435276</td>\n",
       "      <td>0.376218</td>\n",
       "      <td>0.066940</td>\n",
       "      <td>0.492602</td>\n",
       "      <td>0.270513</td>\n",
       "      <td>0.218122</td>\n",
       "      <td>0.163875</td>\n",
       "      <td>0.132831</td>\n",
       "      <td>0.178128</td>\n",
       "      <td>0.0</td>\n",
       "      <td>...</td>\n",
       "      <td>0.107927</td>\n",
       "      <td>0.204887</td>\n",
       "      <td>0.448191</td>\n",
       "      <td>0.274677</td>\n",
       "      <td>0.290700</td>\n",
       "      <td>0.103158</td>\n",
       "      <td>0.291340</td>\n",
       "      <td>0.140743</td>\n",
       "      <td>0.223011</td>\n",
       "      <td>0.395114</td>\n",
       "    </tr>\n",
       "    <tr>\n",
       "      <th>min</th>\n",
       "      <td>0.000000</td>\n",
       "      <td>0.000000</td>\n",
       "      <td>0.000000</td>\n",
       "      <td>0.000000</td>\n",
       "      <td>0.000000</td>\n",
       "      <td>0.000000</td>\n",
       "      <td>0.000000</td>\n",
       "      <td>0.000000</td>\n",
       "      <td>0.000000</td>\n",
       "      <td>0.0</td>\n",
       "      <td>...</td>\n",
       "      <td>0.000000</td>\n",
       "      <td>0.000000</td>\n",
       "      <td>0.000000</td>\n",
       "      <td>0.000000</td>\n",
       "      <td>0.000000</td>\n",
       "      <td>0.000000</td>\n",
       "      <td>0.000000</td>\n",
       "      <td>0.000000</td>\n",
       "      <td>0.000000</td>\n",
       "      <td>0.000000</td>\n",
       "    </tr>\n",
       "    <tr>\n",
       "      <th>25%</th>\n",
       "      <td>1.000000</td>\n",
       "      <td>0.000000</td>\n",
       "      <td>0.000000</td>\n",
       "      <td>0.000000</td>\n",
       "      <td>0.000000</td>\n",
       "      <td>0.000000</td>\n",
       "      <td>0.000000</td>\n",
       "      <td>0.000000</td>\n",
       "      <td>0.000000</td>\n",
       "      <td>0.0</td>\n",
       "      <td>...</td>\n",
       "      <td>0.000000</td>\n",
       "      <td>0.000000</td>\n",
       "      <td>0.000000</td>\n",
       "      <td>0.000000</td>\n",
       "      <td>0.000000</td>\n",
       "      <td>0.000000</td>\n",
       "      <td>0.000000</td>\n",
       "      <td>0.000000</td>\n",
       "      <td>0.000000</td>\n",
       "      <td>0.000000</td>\n",
       "    </tr>\n",
       "    <tr>\n",
       "      <th>50%</th>\n",
       "      <td>1.000000</td>\n",
       "      <td>0.000000</td>\n",
       "      <td>0.000000</td>\n",
       "      <td>0.000000</td>\n",
       "      <td>0.000000</td>\n",
       "      <td>0.000000</td>\n",
       "      <td>0.000000</td>\n",
       "      <td>0.000000</td>\n",
       "      <td>0.000000</td>\n",
       "      <td>0.0</td>\n",
       "      <td>...</td>\n",
       "      <td>0.000000</td>\n",
       "      <td>0.000000</td>\n",
       "      <td>0.000000</td>\n",
       "      <td>0.000000</td>\n",
       "      <td>0.000000</td>\n",
       "      <td>0.000000</td>\n",
       "      <td>0.000000</td>\n",
       "      <td>0.000000</td>\n",
       "      <td>0.000000</td>\n",
       "      <td>0.000000</td>\n",
       "    </tr>\n",
       "    <tr>\n",
       "      <th>75%</th>\n",
       "      <td>1.000000</td>\n",
       "      <td>0.000000</td>\n",
       "      <td>0.000000</td>\n",
       "      <td>1.000000</td>\n",
       "      <td>0.000000</td>\n",
       "      <td>0.000000</td>\n",
       "      <td>0.000000</td>\n",
       "      <td>0.000000</td>\n",
       "      <td>0.000000</td>\n",
       "      <td>0.0</td>\n",
       "      <td>...</td>\n",
       "      <td>0.000000</td>\n",
       "      <td>0.000000</td>\n",
       "      <td>1.000000</td>\n",
       "      <td>0.000000</td>\n",
       "      <td>0.000000</td>\n",
       "      <td>0.000000</td>\n",
       "      <td>0.000000</td>\n",
       "      <td>0.000000</td>\n",
       "      <td>0.000000</td>\n",
       "      <td>0.000000</td>\n",
       "    </tr>\n",
       "    <tr>\n",
       "      <th>max</th>\n",
       "      <td>2.000000</td>\n",
       "      <td>1.000000</td>\n",
       "      <td>1.000000</td>\n",
       "      <td>1.000000</td>\n",
       "      <td>1.000000</td>\n",
       "      <td>1.000000</td>\n",
       "      <td>1.000000</td>\n",
       "      <td>1.000000</td>\n",
       "      <td>1.000000</td>\n",
       "      <td>0.0</td>\n",
       "      <td>...</td>\n",
       "      <td>1.000000</td>\n",
       "      <td>1.000000</td>\n",
       "      <td>1.000000</td>\n",
       "      <td>1.000000</td>\n",
       "      <td>1.000000</td>\n",
       "      <td>1.000000</td>\n",
       "      <td>1.000000</td>\n",
       "      <td>1.000000</td>\n",
       "      <td>1.000000</td>\n",
       "      <td>1.000000</td>\n",
       "    </tr>\n",
       "  </tbody>\n",
       "</table>\n",
       "<p>8 rows × 36 columns</p>\n",
       "</div>"
      ],
      "text/plain": [
       "            related       request         offer   aid_related  medical_help  \\\n",
       "count  26216.000000  26216.000000  26216.000000  26216.000000  26216.000000   \n",
       "mean       0.773650      0.170659      0.004501      0.414251      0.079493   \n",
       "std        0.435276      0.376218      0.066940      0.492602      0.270513   \n",
       "min        0.000000      0.000000      0.000000      0.000000      0.000000   \n",
       "25%        1.000000      0.000000      0.000000      0.000000      0.000000   \n",
       "50%        1.000000      0.000000      0.000000      0.000000      0.000000   \n",
       "75%        1.000000      0.000000      0.000000      1.000000      0.000000   \n",
       "max        2.000000      1.000000      1.000000      1.000000      1.000000   \n",
       "\n",
       "       medical_products  search_and_rescue      security      military  \\\n",
       "count      26216.000000       26216.000000  26216.000000  26216.000000   \n",
       "mean           0.050084           0.027617      0.017966      0.032804   \n",
       "std            0.218122           0.163875      0.132831      0.178128   \n",
       "min            0.000000           0.000000      0.000000      0.000000   \n",
       "25%            0.000000           0.000000      0.000000      0.000000   \n",
       "50%            0.000000           0.000000      0.000000      0.000000   \n",
       "75%            0.000000           0.000000      0.000000      0.000000   \n",
       "max            1.000000           1.000000      1.000000      1.000000   \n",
       "\n",
       "       child_alone      ...         aid_centers  other_infrastructure  \\\n",
       "count      26216.0      ...        26216.000000          26216.000000   \n",
       "mean           0.0      ...            0.011787              0.043904   \n",
       "std            0.0      ...            0.107927              0.204887   \n",
       "min            0.0      ...            0.000000              0.000000   \n",
       "25%            0.0      ...            0.000000              0.000000   \n",
       "50%            0.0      ...            0.000000              0.000000   \n",
       "75%            0.0      ...            0.000000              0.000000   \n",
       "max            0.0      ...            1.000000              1.000000   \n",
       "\n",
       "       weather_related        floods         storm          fire  \\\n",
       "count     26216.000000  26216.000000  26216.000000  26216.000000   \n",
       "mean          0.278341      0.082202      0.093187      0.010757   \n",
       "std           0.448191      0.274677      0.290700      0.103158   \n",
       "min           0.000000      0.000000      0.000000      0.000000   \n",
       "25%           0.000000      0.000000      0.000000      0.000000   \n",
       "50%           0.000000      0.000000      0.000000      0.000000   \n",
       "75%           1.000000      0.000000      0.000000      0.000000   \n",
       "max           1.000000      1.000000      1.000000      1.000000   \n",
       "\n",
       "         earthquake          cold  other_weather  direct_report  \n",
       "count  26216.000000  26216.000000   26216.000000   26216.000000  \n",
       "mean       0.093645      0.020217       0.052487       0.193584  \n",
       "std        0.291340      0.140743       0.223011       0.395114  \n",
       "min        0.000000      0.000000       0.000000       0.000000  \n",
       "25%        0.000000      0.000000       0.000000       0.000000  \n",
       "50%        0.000000      0.000000       0.000000       0.000000  \n",
       "75%        0.000000      0.000000       0.000000       0.000000  \n",
       "max        1.000000      1.000000       1.000000       1.000000  \n",
       "\n",
       "[8 rows x 36 columns]"
      ]
     },
     "execution_count": 5,
     "metadata": {},
     "output_type": "execute_result"
    }
   ],
   "source": [
    "df[df.columns[4:]].describe()"
   ]
  },
  {
   "cell_type": "code",
   "execution_count": 6,
   "metadata": {},
   "outputs": [
    {
     "name": "stdout",
     "output_type": "stream",
     "text": [
      "news      13054\n",
      "direct    10766\n",
      "social     2396\n",
      "Name: genre, dtype: int64\n",
      "1    19906\n",
      "0     6122\n",
      "2      188\n",
      "Name: related, dtype: int64\n",
      "0    21742\n",
      "1     4474\n",
      "Name: request, dtype: int64\n",
      "0    26098\n",
      "1      118\n",
      "Name: offer, dtype: int64\n",
      "0    15356\n",
      "1    10860\n",
      "Name: aid_related, dtype: int64\n",
      "0    24132\n",
      "1     2084\n",
      "Name: medical_help, dtype: int64\n",
      "0    24903\n",
      "1     1313\n",
      "Name: medical_products, dtype: int64\n",
      "0    25492\n",
      "1      724\n",
      "Name: search_and_rescue, dtype: int64\n",
      "0    25745\n",
      "1      471\n",
      "Name: security, dtype: int64\n",
      "0    25356\n",
      "1      860\n",
      "Name: military, dtype: int64\n",
      "0    26216\n",
      "Name: child_alone, dtype: int64\n",
      "0    24544\n",
      "1     1672\n",
      "Name: water, dtype: int64\n",
      "0    23293\n",
      "1     2923\n",
      "Name: food, dtype: int64\n",
      "0    23902\n",
      "1     2314\n",
      "Name: shelter, dtype: int64\n",
      "0    25811\n",
      "1      405\n",
      "Name: clothing, dtype: int64\n",
      "0    25612\n",
      "1      604\n",
      "Name: money, dtype: int64\n",
      "0    25918\n",
      "1      298\n",
      "Name: missing_people, dtype: int64\n",
      "0    25341\n",
      "1      875\n",
      "Name: refugees, dtype: int64\n",
      "0    25022\n",
      "1     1194\n",
      "Name: death, dtype: int64\n",
      "0    22770\n",
      "1     3446\n",
      "Name: other_aid, dtype: int64\n",
      "0    24511\n",
      "1     1705\n",
      "Name: infrastructure_related, dtype: int64\n",
      "0    25015\n",
      "1     1201\n",
      "Name: transport, dtype: int64\n",
      "0    24883\n",
      "1     1333\n",
      "Name: buildings, dtype: int64\n",
      "0    25684\n",
      "1      532\n",
      "Name: electricity, dtype: int64\n",
      "0    26057\n",
      "1      159\n",
      "Name: tools, dtype: int64\n",
      "0    25933\n",
      "1      283\n",
      "Name: hospitals, dtype: int64\n",
      "0    26096\n",
      "1      120\n",
      "Name: shops, dtype: int64\n",
      "0    25907\n",
      "1      309\n",
      "Name: aid_centers, dtype: int64\n",
      "0    25065\n",
      "1     1151\n",
      "Name: other_infrastructure, dtype: int64\n",
      "0    18919\n",
      "1     7297\n",
      "Name: weather_related, dtype: int64\n",
      "0    24061\n",
      "1     2155\n",
      "Name: floods, dtype: int64\n",
      "0    23773\n",
      "1     2443\n",
      "Name: storm, dtype: int64\n",
      "0    25934\n",
      "1      282\n",
      "Name: fire, dtype: int64\n",
      "0    23761\n",
      "1     2455\n",
      "Name: earthquake, dtype: int64\n",
      "0    25686\n",
      "1      530\n",
      "Name: cold, dtype: int64\n",
      "0    24840\n",
      "1     1376\n",
      "Name: other_weather, dtype: int64\n",
      "0    21141\n",
      "1     5075\n",
      "Name: direct_report, dtype: int64\n"
     ]
    }
   ],
   "source": [
    "for i in df[df.columns[4:]]:\n",
    "    print(df[i].value_counts())"
   ]
  },
  {
   "cell_type": "code",
   "execution_count": 7,
   "metadata": {},
   "outputs": [],
   "source": [
    "# Remove child alone factor as it has only zeros\n",
    "df = df.drop([\"child_alone\"],axis=1)"
   ]
  },
  {
   "cell_type": "code",
   "execution_count": 8,
   "metadata": {},
   "outputs": [],
   "source": [
    "# There is a small portion of response type 2 in related column as I don't know if it's an error or not I decide to drop these rows\n",
    "df = df[df.related !=2]"
   ]
  },
  {
   "cell_type": "code",
   "execution_count": 9,
   "metadata": {},
   "outputs": [],
   "source": [
    "X = df.message\n",
    "Y = df[df.columns[5:]]\n",
    "cat_names = Y.columns"
   ]
  },
  {
   "cell_type": "markdown",
   "metadata": {},
   "source": [
    "### 2. Write a tokenization function to process your text data"
   ]
  },
  {
   "cell_type": "code",
   "execution_count": 10,
   "metadata": {},
   "outputs": [
    {
     "data": {
      "text/plain": [
       "0    Weather update - a cold front from Cuba that c...\n",
       "1              Is the Hurricane over or is it not over\n",
       "2                      Looking for someone but no name\n",
       "3    UN reports Leogane 80-90 destroyed. Only Hospi...\n",
       "4    says: west side of Haiti, rest of the country ...\n",
       "Name: message, dtype: object"
      ]
     },
     "execution_count": 10,
     "metadata": {},
     "output_type": "execute_result"
    }
   ],
   "source": [
    "X.head(5)"
   ]
  },
  {
   "cell_type": "code",
   "execution_count": 11,
   "metadata": {},
   "outputs": [],
   "source": [
    "def tokenize(text: str) -> list:\n",
    "    \"\"\"\n",
    "    Split text string into words and return list of words roots\n",
    "    \"\"\"\n",
    "    # Normalization\n",
    "    text = re.sub(r\"[^a-zA-Z0-9]\", \" \", text.lower())\n",
    "    \n",
    "    # Tokenization\n",
    "    words = word_tokenize(text)\n",
    "    stop_words = stopwords.words(\"english\")\n",
    "    words = [word for word in words if word not in stop_words]\n",
    "    \n",
    "    # Lemmatization\n",
    "    tokens = [WordNetLemmatizer().lemmatize(word) for word in words]\n",
    "    return tokens"
   ]
  },
  {
   "cell_type": "markdown",
   "metadata": {},
   "source": [
    "### 3. Build a machine learning pipeline\n",
    "This machine pipeline should take in the `message` column as input and output classification results on the other 36 categories in the dataset. You may find the [MultiOutputClassifier](http://scikit-learn.org/stable/modules/generated/sklearn.multioutput.MultiOutputClassifier.html) helpful for predicting multiple target variables."
   ]
  },
  {
   "cell_type": "code",
   "execution_count": 12,
   "metadata": {},
   "outputs": [],
   "source": [
    "pipeline = Pipeline([\n",
    "        ('vect', CountVectorizer(tokenizer=tokenize)),\n",
    "        ('tfidf', TfidfTransformer()),\n",
    "        ('clf', MultiOutputClassifier(RandomForestClassifier()))\n",
    "    ])\n",
    "    "
   ]
  },
  {
   "cell_type": "markdown",
   "metadata": {},
   "source": [
    "### 4. Train pipeline\n",
    "- Split data into train and test sets\n",
    "- Train pipeline"
   ]
  },
  {
   "cell_type": "code",
   "execution_count": 13,
   "metadata": {},
   "outputs": [
    {
     "data": {
      "text/plain": [
       "Pipeline(memory=None,\n",
       "     steps=[('vect', CountVectorizer(analyzer='word', binary=False, decode_error='strict',\n",
       "        dtype=<class 'numpy.int64'>, encoding='utf-8', input='content',\n",
       "        lowercase=True, max_df=1.0, max_features=None, min_df=1,\n",
       "        ngram_range=(1, 1), preprocessor=None, stop_words=None,\n",
       "        strip...oob_score=False, random_state=None, verbose=0,\n",
       "            warm_start=False),\n",
       "           n_jobs=1))])"
      ]
     },
     "execution_count": 13,
     "metadata": {},
     "output_type": "execute_result"
    }
   ],
   "source": [
    "X_train, X_test, Y_train, Y_test = train_test_split(X,Y)\n",
    "pipeline.fit(X_train, Y_train)"
   ]
  },
  {
   "cell_type": "markdown",
   "metadata": {},
   "source": [
    "### 5. Test your model\n",
    "Report the f1 score, precision and recall for each output category of the dataset. You can do this by iterating through the columns and calling sklearn's `classification_report` on each."
   ]
  },
  {
   "cell_type": "code",
   "execution_count": 14,
   "metadata": {},
   "outputs": [],
   "source": [
    "y_pred = pipeline.predict(X_test)"
   ]
  },
  {
   "cell_type": "code",
   "execution_count": 15,
   "metadata": {},
   "outputs": [
    {
     "name": "stdout",
     "output_type": "stream",
     "text": [
      "                        precision    recall  f1-score   support\n",
      "\n",
      "               related       0.85      0.91      0.88      5016\n",
      "               request       0.79      0.44      0.56      1130\n",
      "                 offer       0.00      0.00      0.00        24\n",
      "           aid_related       0.74      0.61      0.67      2748\n",
      "          medical_help       0.49      0.07      0.13       532\n",
      "      medical_products       0.64      0.08      0.14       351\n",
      "     search_and_rescue       0.50      0.06      0.11       183\n",
      "              security       0.20      0.01      0.02       114\n",
      "              military       0.81      0.10      0.17       229\n",
      "                 water       0.82      0.28      0.42       432\n",
      "                  food       0.85      0.46      0.59       743\n",
      "               shelter       0.85      0.26      0.40       603\n",
      "              clothing       0.95      0.17      0.29       109\n",
      "                 money       0.75      0.04      0.08       136\n",
      "        missing_people       0.57      0.06      0.10        72\n",
      "              refugees       0.55      0.09      0.15       210\n",
      "                 death       0.87      0.21      0.34       304\n",
      "             other_aid       0.48      0.05      0.10       886\n",
      "infrastructure_related       0.25      0.01      0.01       463\n",
      "             transport       0.53      0.07      0.12       298\n",
      "             buildings       0.73      0.11      0.19       328\n",
      "           electricity       0.86      0.04      0.08       145\n",
      "                 tools       0.00      0.00      0.00        47\n",
      "             hospitals       0.00      0.00      0.00        84\n",
      "                 shops       0.00      0.00      0.00        42\n",
      "           aid_centers       0.00      0.00      0.00        85\n",
      "  other_infrastructure       0.12      0.00      0.01       297\n",
      "       weather_related       0.86      0.62      0.72      1831\n",
      "                floods       0.90      0.36      0.52       524\n",
      "                 storm       0.74      0.51      0.60       626\n",
      "                  fire       1.00      0.01      0.02        86\n",
      "            earthquake       0.88      0.78      0.83       624\n",
      "                  cold       0.91      0.08      0.14       130\n",
      "         other_weather       0.62      0.05      0.09       344\n",
      "         direct_report       0.74      0.33      0.46      1275\n",
      "\n",
      "           avg / total       0.74      0.49      0.54     21051\n",
      "\n"
     ]
    },
    {
     "name": "stderr",
     "output_type": "stream",
     "text": [
      "/opt/conda/lib/python3.6/site-packages/sklearn/metrics/classification.py:1135: UndefinedMetricWarning: Precision and F-score are ill-defined and being set to 0.0 in labels with no predicted samples.\n",
      "  'precision', 'predicted', average, warn_for)\n"
     ]
    }
   ],
   "source": [
    "print(classification_report(Y_test.values, y_pred, target_names=Y_test.columns.values))"
   ]
  },
  {
   "cell_type": "markdown",
   "metadata": {},
   "source": [
    "### 6. Improve your model\n",
    "Use grid search to find better parameters. "
   ]
  },
  {
   "cell_type": "code",
   "execution_count": 16,
   "metadata": {},
   "outputs": [
    {
     "data": {
      "text/plain": [
       "dict_keys(['memory', 'steps', 'vect', 'tfidf', 'clf', 'vect__analyzer', 'vect__binary', 'vect__decode_error', 'vect__dtype', 'vect__encoding', 'vect__input', 'vect__lowercase', 'vect__max_df', 'vect__max_features', 'vect__min_df', 'vect__ngram_range', 'vect__preprocessor', 'vect__stop_words', 'vect__strip_accents', 'vect__token_pattern', 'vect__tokenizer', 'vect__vocabulary', 'tfidf__norm', 'tfidf__smooth_idf', 'tfidf__sublinear_tf', 'tfidf__use_idf', 'clf__estimator__bootstrap', 'clf__estimator__class_weight', 'clf__estimator__criterion', 'clf__estimator__max_depth', 'clf__estimator__max_features', 'clf__estimator__max_leaf_nodes', 'clf__estimator__min_impurity_decrease', 'clf__estimator__min_impurity_split', 'clf__estimator__min_samples_leaf', 'clf__estimator__min_samples_split', 'clf__estimator__min_weight_fraction_leaf', 'clf__estimator__n_estimators', 'clf__estimator__n_jobs', 'clf__estimator__oob_score', 'clf__estimator__random_state', 'clf__estimator__verbose', 'clf__estimator__warm_start', 'clf__estimator', 'clf__n_jobs'])"
      ]
     },
     "execution_count": 16,
     "metadata": {},
     "output_type": "execute_result"
    }
   ],
   "source": [
    "pipeline.get_params().keys()"
   ]
  },
  {
   "cell_type": "code",
   "execution_count": 17,
   "metadata": {},
   "outputs": [
    {
     "data": {
      "text/plain": [
       "GridSearchCV(cv=None, error_score='raise',\n",
       "       estimator=Pipeline(memory=None,\n",
       "     steps=[('vect', CountVectorizer(analyzer='word', binary=False, decode_error='strict',\n",
       "        dtype=<class 'numpy.int64'>, encoding='utf-8', input='content',\n",
       "        lowercase=True, max_df=1.0, max_features=None, min_df=1,\n",
       "        ngram_range=(1, 1), preprocessor=None, stop_words=None,\n",
       "        strip...oob_score=False, random_state=None, verbose=0,\n",
       "            warm_start=False),\n",
       "           n_jobs=1))]),\n",
       "       fit_params=None, iid=True, n_jobs=1,\n",
       "       param_grid={'clf__estimator__n_estimators': [10, 30], 'clf__estimator__min_samples_split': [2, 3, 4]},\n",
       "       pre_dispatch='2*n_jobs', refit=True, return_train_score='warn',\n",
       "       scoring='f1_micro', verbose=0)"
      ]
     },
     "execution_count": 17,
     "metadata": {},
     "output_type": "execute_result"
    }
   ],
   "source": [
    "parameters = {\n",
    "    'clf__estimator__n_estimators': [10, 30],\n",
    "    'clf__estimator__min_samples_split': [2, 3, 4]\n",
    "    }\n",
    "\n",
    "cv = GridSearchCV(pipeline, param_grid = parameters, scoring='f1_micro')\n",
    "cv.fit(X_train, Y_train)"
   ]
  },
  {
   "cell_type": "markdown",
   "metadata": {},
   "source": [
    "### 7. Test your model\n",
    "Show the accuracy, precision, and recall of the tuned model.  \n",
    "\n",
    "Since this project focuses on code quality, process, and  pipelines, there is no minimum performance metric needed to pass. However, make sure to fine tune your models for accuracy, precision and recall to make your project stand out - especially for your portfolio!"
   ]
  },
  {
   "cell_type": "code",
   "execution_count": 18,
   "metadata": {},
   "outputs": [],
   "source": [
    "y_pred_cv = cv.predict(X_test)"
   ]
  },
  {
   "cell_type": "code",
   "execution_count": 19,
   "metadata": {},
   "outputs": [
    {
     "name": "stdout",
     "output_type": "stream",
     "text": [
      "                        precision    recall  f1-score   support\n",
      "\n",
      "               related       0.84      0.94      0.89      5016\n",
      "               request       0.82      0.52      0.64      1130\n",
      "                 offer       0.00      0.00      0.00        24\n",
      "           aid_related       0.75      0.70      0.73      2748\n",
      "          medical_help       0.68      0.10      0.17       532\n",
      "      medical_products       0.83      0.14      0.23       351\n",
      "     search_and_rescue       0.79      0.06      0.11       183\n",
      "              security       0.00      0.00      0.00       114\n",
      "              military       0.92      0.10      0.19       229\n",
      "                 water       0.86      0.39      0.54       432\n",
      "                  food       0.85      0.64      0.73       743\n",
      "               shelter       0.84      0.41      0.55       603\n",
      "              clothing       0.83      0.09      0.17       109\n",
      "                 money       0.60      0.02      0.04       136\n",
      "        missing_people       0.50      0.01      0.03        72\n",
      "              refugees       0.47      0.04      0.07       210\n",
      "                 death       0.79      0.16      0.27       304\n",
      "             other_aid       0.51      0.04      0.08       886\n",
      "infrastructure_related       0.20      0.00      0.00       463\n",
      "             transport       0.78      0.14      0.24       298\n",
      "             buildings       0.80      0.16      0.26       328\n",
      "           electricity       0.86      0.04      0.08       145\n",
      "                 tools       0.00      0.00      0.00        47\n",
      "             hospitals       0.00      0.00      0.00        84\n",
      "                 shops       0.00      0.00      0.00        42\n",
      "           aid_centers       0.00      0.00      0.00        85\n",
      "  other_infrastructure       0.00      0.00      0.00       297\n",
      "       weather_related       0.83      0.71      0.76      1831\n",
      "                floods       0.92      0.42      0.58       524\n",
      "                 storm       0.79      0.54      0.64       626\n",
      "                  fire       0.00      0.00      0.00        86\n",
      "            earthquake       0.89      0.78      0.83       624\n",
      "                  cold       1.00      0.09      0.17       130\n",
      "         other_weather       0.55      0.03      0.07       344\n",
      "         direct_report       0.79      0.40      0.53      1275\n",
      "\n",
      "           avg / total       0.75      0.54      0.58     21051\n",
      "\n"
     ]
    },
    {
     "name": "stderr",
     "output_type": "stream",
     "text": [
      "/opt/conda/lib/python3.6/site-packages/sklearn/metrics/classification.py:1135: UndefinedMetricWarning: Precision and F-score are ill-defined and being set to 0.0 in labels with no predicted samples.\n",
      "  'precision', 'predicted', average, warn_for)\n"
     ]
    }
   ],
   "source": [
    "print(classification_report(Y_test.values, y_pred_cv, target_names=Y_test.columns.values))"
   ]
  },
  {
   "cell_type": "markdown",
   "metadata": {},
   "source": [
    "### 8. Try improving your model further. Here are a few ideas:\n",
    "* try other machine learning algorithms\n",
    "* add other features besides the TF-IDF"
   ]
  },
  {
   "cell_type": "code",
   "execution_count": 20,
   "metadata": {},
   "outputs": [
    {
     "name": "stdout",
     "output_type": "stream",
     "text": [
      "                        precision    recall  f1-score   support\n",
      "\n",
      "               related       0.80      0.97      0.88      5016\n",
      "               request       0.76      0.52      0.62      1130\n",
      "                 offer       0.00      0.00      0.00        24\n",
      "           aid_related       0.77      0.59      0.67      2748\n",
      "          medical_help       0.55      0.26      0.35       532\n",
      "      medical_products       0.66      0.35      0.46       351\n",
      "     search_and_rescue       0.50      0.18      0.27       183\n",
      "              security       0.40      0.09      0.14       114\n",
      "              military       0.65      0.32      0.43       229\n",
      "                 water       0.76      0.65      0.70       432\n",
      "                  food       0.81      0.66      0.73       743\n",
      "               shelter       0.76      0.54      0.64       603\n",
      "              clothing       0.75      0.51      0.61       109\n",
      "                 money       0.54      0.38      0.44       136\n",
      "        missing_people       0.59      0.18      0.28        72\n",
      "              refugees       0.53      0.25      0.34       210\n",
      "                 death       0.73      0.43      0.55       304\n",
      "             other_aid       0.55      0.14      0.23       886\n",
      "infrastructure_related       0.47      0.09      0.15       463\n",
      "             transport       0.68      0.22      0.33       298\n",
      "             buildings       0.60      0.38      0.47       328\n",
      "           electricity       0.51      0.20      0.29       145\n",
      "                 tools       0.00      0.00      0.00        47\n",
      "             hospitals       0.30      0.07      0.12        84\n",
      "                 shops       0.17      0.02      0.04        42\n",
      "           aid_centers       0.50      0.12      0.19        85\n",
      "  other_infrastructure       0.44      0.09      0.15       297\n",
      "       weather_related       0.86      0.66      0.75      1831\n",
      "                floods       0.86      0.57      0.68       524\n",
      "                 storm       0.77      0.49      0.60       626\n",
      "                  fire       0.55      0.19      0.28        86\n",
      "            earthquake       0.88      0.80      0.84       624\n",
      "                  cold       0.70      0.32      0.44       130\n",
      "         other_weather       0.41      0.13      0.19       344\n",
      "         direct_report       0.68      0.42      0.52      1275\n",
      "\n",
      "           avg / total       0.73      0.58      0.62     21051\n",
      "\n"
     ]
    }
   ],
   "source": [
    "pipeline_ada = Pipeline([\n",
    "        ('vect', CountVectorizer(tokenizer = tokenize)),\n",
    "        ('tfidf', TfidfTransformer()),\n",
    "        ('clf',  MultiOutputClassifier(AdaBoostClassifier()))\n",
    "    ])\n",
    "\n",
    "pipeline_ada.fit(X_train, Y_train)\n",
    "y_pred_ada = pipeline_ada.predict(X_test)\n",
    "print(classification_report(Y_test.values, y_pred_ada, target_names=Y_test.columns.values))"
   ]
  },
  {
   "cell_type": "code",
   "execution_count": 21,
   "metadata": {},
   "outputs": [
    {
     "name": "stdout",
     "output_type": "stream",
     "text": [
      "                        precision    recall  f1-score   support\n",
      "\n",
      "               related       0.79      0.99      0.88      5016\n",
      "               request       0.88      0.23      0.36      1130\n",
      "                 offer       0.00      0.00      0.00        24\n",
      "           aid_related       0.74      0.63      0.68      2748\n",
      "          medical_help       0.67      0.00      0.01       532\n",
      "      medical_products       0.00      0.00      0.00       351\n",
      "     search_and_rescue       0.00      0.00      0.00       183\n",
      "              security       0.00      0.00      0.00       114\n",
      "              military       0.00      0.00      0.00       229\n",
      "                 water       0.00      0.00      0.00       432\n",
      "                  food       0.77      0.02      0.04       743\n",
      "               shelter       0.00      0.00      0.00       603\n",
      "              clothing       0.00      0.00      0.00       109\n",
      "                 money       0.00      0.00      0.00       136\n",
      "        missing_people       0.00      0.00      0.00        72\n",
      "              refugees       0.00      0.00      0.00       210\n",
      "                 death       0.00      0.00      0.00       304\n",
      "             other_aid       0.00      0.00      0.00       886\n",
      "infrastructure_related       0.00      0.00      0.00       463\n",
      "             transport       0.00      0.00      0.00       298\n",
      "             buildings       0.00      0.00      0.00       328\n",
      "           electricity       0.00      0.00      0.00       145\n",
      "                 tools       0.00      0.00      0.00        47\n",
      "             hospitals       0.00      0.00      0.00        84\n",
      "                 shops       0.00      0.00      0.00        42\n",
      "           aid_centers       0.00      0.00      0.00        85\n",
      "  other_infrastructure       0.00      0.00      0.00       297\n",
      "       weather_related       0.84      0.42      0.56      1831\n",
      "                floods       1.00      0.01      0.02       524\n",
      "                 storm       0.75      0.01      0.02       626\n",
      "                  fire       0.00      0.00      0.00        86\n",
      "            earthquake       0.89      0.10      0.18       624\n",
      "                  cold       0.00      0.00      0.00       130\n",
      "         other_weather       0.00      0.00      0.00       344\n",
      "         direct_report       0.81      0.17      0.29      1275\n",
      "\n",
      "           avg / total       0.57      0.38      0.39     21051\n",
      "\n"
     ]
    },
    {
     "name": "stderr",
     "output_type": "stream",
     "text": [
      "/opt/conda/lib/python3.6/site-packages/sklearn/metrics/classification.py:1135: UndefinedMetricWarning: Precision and F-score are ill-defined and being set to 0.0 in labels with no predicted samples.\n",
      "  'precision', 'predicted', average, warn_for)\n"
     ]
    }
   ],
   "source": [
    "pipeline_nb = Pipeline([\n",
    "        ('vect', CountVectorizer(tokenizer = tokenize)),\n",
    "        ('tfidf', TfidfTransformer()),\n",
    "        ('clf',  MultiOutputClassifier(MultinomialNB()))\n",
    "    ])\n",
    "\n",
    "pipeline_nb.fit(X_train, Y_train)\n",
    "y_pred_nb = pipeline_nb.predict(X_test)\n",
    "print(classification_report(Y_test.values, y_pred_nb, target_names=Y_test.columns.values))"
   ]
  },
  {
   "cell_type": "code",
   "execution_count": 22,
   "metadata": {},
   "outputs": [
    {
     "data": {
      "text/plain": [
       "dict_keys(['memory', 'steps', 'vect', 'tfidf', 'clf', 'vect__analyzer', 'vect__binary', 'vect__decode_error', 'vect__dtype', 'vect__encoding', 'vect__input', 'vect__lowercase', 'vect__max_df', 'vect__max_features', 'vect__min_df', 'vect__ngram_range', 'vect__preprocessor', 'vect__stop_words', 'vect__strip_accents', 'vect__token_pattern', 'vect__tokenizer', 'vect__vocabulary', 'tfidf__norm', 'tfidf__smooth_idf', 'tfidf__sublinear_tf', 'tfidf__use_idf', 'clf__estimator__algorithm', 'clf__estimator__base_estimator', 'clf__estimator__learning_rate', 'clf__estimator__n_estimators', 'clf__estimator__random_state', 'clf__estimator', 'clf__n_jobs'])"
      ]
     },
     "execution_count": 22,
     "metadata": {},
     "output_type": "execute_result"
    }
   ],
   "source": [
    "pipeline_ada.get_params().keys()"
   ]
  },
  {
   "cell_type": "code",
   "execution_count": 23,
   "metadata": {},
   "outputs": [],
   "source": [
    "ada_params= {\n",
    "    'clf__estimator__learning_rate': [0.01, 0.02, 0.05],\n",
    "    'clf__estimator__n_estimators': [10, 20, 40]\n",
    "    }"
   ]
  },
  {
   "cell_type": "code",
   "execution_count": 24,
   "metadata": {},
   "outputs": [
    {
     "name": "stdout",
     "output_type": "stream",
     "text": [
      "                        precision    recall  f1-score   support\n",
      "\n",
      "               related       0.77      1.00      0.87      5016\n",
      "               request       0.82      0.13      0.22      1130\n",
      "                 offer       0.00      0.00      0.00        24\n",
      "           aid_related       0.82      0.20      0.32      2748\n",
      "          medical_help       0.61      0.10      0.17       532\n",
      "      medical_products       0.50      0.00      0.01       351\n",
      "     search_and_rescue       0.58      0.19      0.29       183\n",
      "              security       0.00      0.00      0.00       114\n",
      "              military       0.56      0.13      0.21       229\n",
      "                 water       0.56      0.84      0.67       432\n",
      "                  food       0.78      0.69      0.73       743\n",
      "               shelter       0.86      0.31      0.45       603\n",
      "              clothing       1.00      0.01      0.02       109\n",
      "                 money       0.54      0.18      0.27       136\n",
      "        missing_people       0.79      0.26      0.40        72\n",
      "              refugees       0.67      0.01      0.02       210\n",
      "                 death       0.50      0.00      0.01       304\n",
      "             other_aid       0.00      0.00      0.00       886\n",
      "infrastructure_related       0.00      0.00      0.00       463\n",
      "             transport       0.55      0.26      0.35       298\n",
      "             buildings       0.77      0.08      0.15       328\n",
      "           electricity       0.00      0.00      0.00       145\n",
      "                 tools       0.00      0.00      0.00        47\n",
      "             hospitals       0.00      0.00      0.00        84\n",
      "                 shops       0.00      0.00      0.00        42\n",
      "           aid_centers       0.00      0.00      0.00        85\n",
      "  other_infrastructure       0.00      0.00      0.00       297\n",
      "       weather_related       0.91      0.24      0.38      1831\n",
      "                floods       0.91      0.34      0.50       524\n",
      "                 storm       0.71      0.25      0.37       626\n",
      "                  fire       0.00      0.00      0.00        86\n",
      "            earthquake       0.90      0.69      0.78       624\n",
      "                  cold       0.71      0.25      0.37       130\n",
      "         other_weather       0.60      0.15      0.23       344\n",
      "         direct_report       0.71      0.10      0.17      1275\n",
      "\n",
      "           avg / total       0.69      0.40      0.43     21051\n",
      "\n"
     ]
    },
    {
     "name": "stderr",
     "output_type": "stream",
     "text": [
      "/opt/conda/lib/python3.6/site-packages/sklearn/metrics/classification.py:1135: UndefinedMetricWarning: Precision and F-score are ill-defined and being set to 0.0 in labels with no predicted samples.\n",
      "  'precision', 'predicted', average, warn_for)\n"
     ]
    }
   ],
   "source": [
    "cv_ada = GridSearchCV(pipeline_ada, param_grid = ada_params, scoring='f1_micro')\n",
    "cv_ada.fit(X_train, Y_train)\n",
    "y_pred_cvada = cv_ada.predict(X_test)\n",
    "print(classification_report(Y_test.values, y_pred_cvada, target_names=Y_test.columns.values))"
   ]
  },
  {
   "cell_type": "markdown",
   "metadata": {},
   "source": [
    "### 9. Export your model as a pickle file"
   ]
  },
  {
   "cell_type": "code",
   "execution_count": 26,
   "metadata": {},
   "outputs": [],
   "source": [
    "file_name = 'classifier.pkl'\n",
    "with open (file_name, 'wb') as f:\n",
    "    pickle.dump(pipeline_ada, f)"
   ]
  },
  {
   "cell_type": "markdown",
   "metadata": {},
   "source": [
    "### 10. Use this notebook to complete `train.py`\n",
    "Use the template file attached in the Resources folder to write a script that runs the steps above to create a database and export a model based on a new dataset specified by the user."
   ]
  },
  {
   "cell_type": "code",
   "execution_count": null,
   "metadata": {},
   "outputs": [],
   "source": []
  }
 ],
 "metadata": {
  "kernelspec": {
   "display_name": "Python 3",
   "language": "python",
   "name": "python3"
  },
  "language_info": {
   "codemirror_mode": {
    "name": "ipython",
    "version": 3
   },
   "file_extension": ".py",
   "mimetype": "text/x-python",
   "name": "python",
   "nbconvert_exporter": "python",
   "pygments_lexer": "ipython3",
   "version": "3.6.3"
  }
 },
 "nbformat": 4,
 "nbformat_minor": 2
}
